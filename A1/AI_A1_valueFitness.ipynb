{
  "cells": [
    {
      "cell_type": "markdown",
      "metadata": {
        "id": "ln3toYOGCKAd"
      },
      "source": [
        "<html>\n",
        "<div style=\"text-align: center\">  \n",
        "  <img src=\"\" width=260px style=\"padding:10px; text-align: left;\"/> </div>\n",
        "\n",
        "\n",
        "    \n",
        "    \n",
        "\n",
        "<div style=\"background-image: linear-gradient(to left, rgb(255, 255, 255), rgb( 170, 141, 220 )); width: auto; text-align: center; height: 40px; margin: 10px;\">\n",
        "<h1 style=\"font-family: Georgia; color: black;\">AI - Project1 : Genetic Algorithms : Knapsack Problem</h1>\n",
        "</div>\n",
        "<div style=\" background-image: linear-gradient(to left, rgb(255, 255, 255), rgb( 219, 204, 245  )); width: 400px; height: 30px; margin: 10px; text-alighn:middle\">\n",
        "  <span style=\"font-family: Georgia; font-size:15pt; color: ; vertical-align: left;\">FatemeZahra Broumandnia </span>\n",
        "    \n",
        "</div>\n",
        "    \n",
        "<div style=\" background-image: linear-gradient(to left, rgb(255, 255, 255), rgb( 219, 204, 245  )); width: 400px; height: 30px; margin:10px 10px; text-alighn:middle\">\n",
        "  <span style=\"font-family: Georgia; font-size:12pt; color: ; vertical-align: left;\">Student Id: 810100094</span>\n",
        "    \n",
        "</div>\n",
        "</html>\n"
      ]
    },
    {
      "cell_type": "markdown",
      "metadata": {
        "id": "7915b25c"
      },
      "source": [
        "<html>\n",
        "    \n",
        "<div >\n",
        "<p5>   \n",
        "\n",
        "\n",
        "# Goal:\n",
        "The goal of this project is to solve the knapsack problem using a genetic algorithm approach. The knapsack problem is a classic optimization problem where the goal is to maximize the total value of items selected, subject to a constraint on the total weight and total value of the selected items. In this context, the project aims to find the optimal selection of items to maximize the value while ensuring that the total weight does not exceed the carrier limit and the total value is greater than or equal to the minimum value.\n",
        "\n",
        "# Problem Description:\n",
        "The problem involves selecting a subset of items from a given set of items, each with its own weight and value. The objective is to maximize the total value of the selected items while ensuring that the total weight does not exceed a given carrier limit and that the total value is greater than or equal to a specified minimum value. This problem is known as the knapsack problem and is considered a combinatorial optimization problem.\n",
        "    \n",
        "</p5>\n",
        " </div>       \n",
        "    <html>\n"
      ]
    },
    {
      "cell_type": "code",
      "execution_count": null,
      "metadata": {
        "id": "itqRt6NnUdq9"
      },
      "outputs": [],
      "source": [
        "import pandas as pd\n",
        "import random\n",
        "from operator import itemgetter\n",
        "import random\n",
        "import copy\n",
        "import io\n",
        "import matplotlib.pyplot as plt"
      ]
    },
    {
      "cell_type": "code",
      "execution_count": null,
      "metadata": {
        "id": "LIhYPucSX_u3"
      },
      "outputs": [],
      "source": [
        "class Item:\n",
        "    def __init__(self, id, weight, value):\n",
        "        self.id = id\n",
        "        self.weight = weight\n",
        "        self.value = value"
      ]
    },
    {
      "cell_type": "code",
      "execution_count": 2,
      "metadata": {},
      "outputs": [
        {
          "name": "stdout",
          "output_type": "stream",
          "text": [
            "Collecting google.colab\n"
          ]
        },
        {
          "name": "stderr",
          "output_type": "stream",
          "text": [
            "  WARNING: Retrying (Retry(total=4, connect=None, read=None, redirect=None, status=None)) after connection broken by 'ReadTimeoutError(\"HTTPSConnectionPool(host='files.pythonhosted.org', port=443): Read timed out. (read timeout=15)\")': /packages/70/9f/d3ec1275a089ec017f9c91af22ecd1e2fe738254b944e7a1f9528fcfacd0/google-colab-1.0.0.tar.gz\n",
            "  WARNING: Retrying (Retry(total=3, connect=None, read=None, redirect=None, status=None)) after connection broken by 'ReadTimeoutError(\"HTTPSConnectionPool(host='files.pythonhosted.org', port=443): Read timed out. (read timeout=15)\")': /packages/70/9f/d3ec1275a089ec017f9c91af22ecd1e2fe738254b944e7a1f9528fcfacd0/google-colab-1.0.0.tar.gz\n",
            "  WARNING: Retrying (Retry(total=2, connect=None, read=None, redirect=None, status=None)) after connection broken by 'ReadTimeoutError(\"HTTPSConnectionPool(host='files.pythonhosted.org', port=443): Read timed out. (read timeout=15)\")': /packages/70/9f/d3ec1275a089ec017f9c91af22ecd1e2fe738254b944e7a1f9528fcfacd0/google-colab-1.0.0.tar.gz\n",
            "  WARNING: Retrying (Retry(total=1, connect=None, read=None, redirect=None, status=None)) after connection broken by 'ReadTimeoutError(\"HTTPSConnectionPool(host='files.pythonhosted.org', port=443): Read timed out. (read timeout=15)\")': /packages/70/9f/d3ec1275a089ec017f9c91af22ecd1e2fe738254b944e7a1f9528fcfacd0/google-colab-1.0.0.tar.gz\n",
            "  WARNING: Retrying (Retry(total=0, connect=None, read=None, redirect=None, status=None)) after connection broken by 'ReadTimeoutError(\"HTTPSConnectionPool(host='files.pythonhosted.org', port=443): Read timed out. (read timeout=15)\")': /packages/70/9f/d3ec1275a089ec017f9c91af22ecd1e2fe738254b944e7a1f9528fcfacd0/google-colab-1.0.0.tar.gz\n",
            "ERROR: Could not install packages due to an OSError: HTTPSConnectionPool(host='files.pythonhosted.org', port=443): Max retries exceeded with url: /packages/70/9f/d3ec1275a089ec017f9c91af22ecd1e2fe738254b944e7a1f9528fcfacd0/google-colab-1.0.0.tar.gz (Caused by ReadTimeoutError(\"HTTPSConnectionPool(host='files.pythonhosted.org', port=443): Read timed out. (read timeout=15)\"))\n",
            "\n"
          ]
        }
      ],
      "source": [
        "!pip install google.colab"
      ]
    },
    {
      "cell_type": "markdown",
      "metadata": {
        "id": "hT-Djbir5eVV"
      },
      "source": [
        "\n",
        "# Importing data\n",
        "Data is imported from csv and saved in the proper data structure to get used in later."
      ]
    },
    {
      "cell_type": "code",
      "execution_count": 1,
      "metadata": {
        "colab": {
          "base_uri": "https://localhost:8080/",
          "height": 74
        },
        "id": "d9JDqSBZbsde",
        "outputId": "a0d60aff-ec75-49d5-f248-52f85cfcdf50"
      },
      "outputs": [
        {
          "ename": "ModuleNotFoundError",
          "evalue": "No module named 'google.colab'",
          "output_type": "error",
          "traceback": [
            "\u001b[1;31m---------------------------------------------------------------------------\u001b[0m",
            "\u001b[1;31mModuleNotFoundError\u001b[0m                       Traceback (most recent call last)",
            "Cell \u001b[1;32mIn[1], line 1\u001b[0m\n\u001b[1;32m----> 1\u001b[0m \u001b[38;5;28;01mfrom\u001b[39;00m \u001b[38;5;21;01mgoogle\u001b[39;00m\u001b[38;5;21;01m.\u001b[39;00m\u001b[38;5;21;01mcolab\u001b[39;00m \u001b[38;5;28;01mimport\u001b[39;00m files\n\u001b[0;32m      3\u001b[0m uploaded \u001b[38;5;241m=\u001b[39m files\u001b[38;5;241m.\u001b[39mupload()\n",
            "\u001b[1;31mModuleNotFoundError\u001b[0m: No module named 'google.colab'"
          ]
        }
      ],
      "source": [
        "from google.colab import files\n",
        "\n",
        "uploaded = files.upload()"
      ]
    },
    {
      "cell_type": "code",
      "execution_count": null,
      "metadata": {
        "colab": {
          "base_uri": "https://localhost:8080/"
        },
        "id": "3JSkMwKBb8sv",
        "outputId": "fae21548-d47f-4284-8443-d4c20a7bcf5a"
      },
      "outputs": [
        {
          "name": "stdout",
          "output_type": "stream",
          "text": [
            "            Snack  Available Weight  Value\n",
            "0          MazMaz                10     10\n",
            "1   Doogh-e-Abali                15     10\n",
            "2            Nani                 5      5\n",
            "3            Jooj                 7     15\n",
            "4         Hot-Dog                20     15\n",
            "5           Chips                 8      6\n",
            "6        Nooshaba                12      8\n",
            "7        Shokolat                 6      7\n",
            "8       Chocoroll                 9     12\n",
            "9         Cookies                11     11\n",
            "10        Abnabat                 4      4\n",
            "11   Adams-Khersi                14      9\n",
            "12        Popcorn                16     13\n",
            "13         Pastil                 3      7\n",
            "14       Tordilla                10      9\n",
            "15       Masghati                 5      6\n",
            "16        Ghottab                 7     10\n",
            "17   Saghe-Talaei                 9     11\n",
            "18    Choob-Shoor                13     12\n"
          ]
        }
      ],
      "source": [
        "for filename, data in uploaded.items():\n",
        "    if filename.endswith('.csv'):\n",
        "        df = pd.read_csv(io.BytesIO(data))\n",
        "\n",
        "print(df)"
      ]
    },
    {
      "cell_type": "code",
      "execution_count": null,
      "metadata": {
        "colab": {
          "base_uri": "https://localhost:8080/"
        },
        "id": "rMNvDUiedYd8",
        "outputId": "954f38fe-19f6-4580-b15b-b3aa5510b2fa"
      },
      "outputs": [
        {
          "name": "stdout",
          "output_type": "stream",
          "text": [
            "ID: MazMaz, Weight: 10, Value: 10\n",
            "ID: Doogh-e-Abali, Weight: 15, Value: 10\n",
            "ID: Nani, Weight: 5, Value: 5\n",
            "ID: Jooj, Weight: 7, Value: 15\n",
            "ID: Hot-Dog, Weight: 20, Value: 15\n",
            "ID: Chips, Weight: 8, Value: 6\n",
            "ID: Nooshaba, Weight: 12, Value: 8\n",
            "ID: Shokolat, Weight: 6, Value: 7\n",
            "ID: Chocoroll, Weight: 9, Value: 12\n",
            "ID: Cookies, Weight: 11, Value: 11\n",
            "ID: Abnabat, Weight: 4, Value: 4\n",
            "ID: Adams-Khersi, Weight: 14, Value: 9\n",
            "ID: Popcorn, Weight: 16, Value: 13\n",
            "ID: Pastil, Weight: 3, Value: 7\n",
            "ID: Tordilla, Weight: 10, Value: 9\n",
            "ID: Masghati, Weight: 5, Value: 6\n",
            "ID: Ghottab, Weight: 7, Value: 10\n",
            "ID: Saghe-Talaei, Weight: 9, Value: 11\n",
            "ID: Choob-Shoor, Weight: 13, Value: 12\n"
          ]
        }
      ],
      "source": [
        "item_list = []\n",
        "for index, row in df.iterrows():\n",
        "    item = Item(row['Snack'], float(row['Available Weight']), float(row['Value']))\n",
        "    item_list.append(item)\n",
        "\n",
        "# Now 'items' list contains Item objects\n",
        "for item in item_list:\n",
        "    print(f\"ID: {item.id}, Weight: {item.weight}, Value: {item.value}\")"
      ]
    },
    {
      "cell_type": "markdown",
      "metadata": {
        "id": "2e0531bb"
      },
      "source": [
        "# Part1: Define basic concepts\n",
        "In this project\n",
        "- chromosome: In the context of this problem, a chromosome represents a potential solution to the knapsack problem. It is a binary string where each bit corresponds to whether or not the corresponding item is included in the knapsack. For example, if there are 5 items, a chromosome of length 5 might look like 10110, where each digit represents whether the corresponding item is included (1) or not (0).\n",
        "- gene: A gene refers to each individual bit in the chromosome. In the example above, each digit (1 or 0) is a gene. Each gene determines whether the corresponding item is selected or not. For instance, in the chromosome 10110, the first gene represents whether the first item is selected (1) or not (0), the second gene represents the second item, and so on\n",
        "\n"
      ]
    },
    {
      "cell_type": "code",
      "execution_count": null,
      "metadata": {
        "id": "37vEwkeP3zNK"
      },
      "outputs": [],
      "source": [
        "carrier_limit = 25.0\n",
        "min_value = 28\n",
        "population_size = 5\n",
        "generation_size = 100\n",
        "mutation_rate = 0.1"
      ]
    },
    {
      "cell_type": "markdown",
      "metadata": {
        "id": "mIH61AV45L2T"
      },
      "source": [
        "\n",
        "# Part2: Production of the primary population\n",
        "in the \"initial_population\" function I tried to generate the primary population.Due to that, I used \"random\" library to generate a row of random coefficients. and I repeated it to expand my population and have more rows. It ensures that the generated solutions meet the validity criteria and do not contain duplicates within the population."
      ]
    },
    {
      "cell_type": "markdown",
      "metadata": {
        "id": "B1hOMflJ-IOg"
      },
      "source": [
        "\n",
        "# Part3: Fitness Function\n",
        "GAs require a fitness function which allocates a score to each chromosome in the current\n",
        "population. Thus, it can calculate how well the solutions are coded and how well they\n",
        "solve the problem.\n",
        "\n",
        "For our knapsack problem, we can define the fitness coefficient of an individual (solution) as the summation of the values of the items picked in the knapsack as per the bit string if the total weight of the picked items is less than the weight knapsack can hold. The fitness coefficient of an individual is 0 if the total weight of the item picked is greater than the weight that the knapsack can hold."
      ]
    },
    {
      "cell_type": "code",
      "execution_count": null,
      "metadata": {
        "id": "JvlYJ5KH33NI"
      },
      "outputs": [],
      "source": [
        "def initial_population(pop_size, i_list, w_limit, v_limit):\n",
        "    population = []\n",
        "    i = 0\n",
        "    while i < pop_size:\n",
        "        new_solution = create_random_solution(i_list)\n",
        "        if valid_solution(i_list, new_solution, w_limit, v_limit):\n",
        "            if len(population) == 0:\n",
        "                population.append(new_solution)\n",
        "                i += 1\n",
        "            else:\n",
        "                skip = False\n",
        "                for j in range(0, len(population)):\n",
        "                    if check_duplicate_solutions(new_solution, population[j]):\n",
        "                        skip = True\n",
        "                        continue\n",
        "                if not skip:\n",
        "                    population.append(new_solution)\n",
        "                    i += 1\n",
        "    return population"
      ]
    },
    {
      "cell_type": "markdown",
      "metadata": {
        "id": "n8TeBttXBMuj"
      },
      "source": [
        "# Auxiliary Functions\n",
        "to calculate weight, value, print answer, checking duplications and ..."
      ]
    },
    {
      "cell_type": "code",
      "execution_count": null,
      "metadata": {
        "id": "odxN1xqL9mca"
      },
      "outputs": [],
      "source": [
        "def tournament_selection(pop):\n",
        "    ticket_1 = random.randint(0, len(pop) - 1)\n",
        "    ticket_2 = random.randint(0, len(pop) - 1)\n",
        "    if calculate_value(item_list, pop[ticket_1]) > calculate_value(item_list, pop[ticket_2]):\n",
        "        winner = pop[ticket_1]\n",
        "    else:\n",
        "        winner = pop[ticket_2]\n",
        "\n",
        "    return winner\n",
        "\n",
        "def create_generation(pop, mut_rate):\n",
        "    new_gen = []\n",
        "    for i in range(0, len(pop)):\n",
        "        parent_1 = tournament_selection(pop)\n",
        "        parent_2 = tournament_selection(pop)\n",
        "        child = crossover(parent_1, parent_2)\n",
        "\n",
        "        if random.random() < mut_rate:\n",
        "            child = mutation(child)\n",
        "\n",
        "        new_gen.append(child)\n",
        "    return new_gen\n",
        "\n",
        "def best_solution(generation, i_list):\n",
        "    best = 0\n",
        "    best_ans = []\n",
        "    for i in range(0, len(generation)):\n",
        "        temp = calculate_value(i_list, generation[i])\n",
        "        if temp > best:\n",
        "            best = temp\n",
        "            best_ans = generation[i]\n",
        "    return best, best_ans\n",
        "\n",
        "\n",
        "value_list = []\n",
        "\n",
        "def create_random_solution(i_list):\n",
        "    solution = []\n",
        "    for i in range(0, len(i_list)):\n",
        "        solution.append(random.randint(0, 1))\n",
        "    return solution\n",
        "\n",
        "def valid_solution(i_list, s_list, w_limit, v_limit):\n",
        "    total_weight = 0\n",
        "    total_value=0\n",
        "    for i in range(0, len(s_list)):\n",
        "        if s_list[i] == 1:\n",
        "            total_weight += i_list[i].weight\n",
        "            total_value += i_list[i].value\n",
        "        if total_weight > w_limit:\n",
        "            return False\n",
        "    if total_value < v_limit:\n",
        "        return False\n",
        "    return True\n",
        "\n",
        "def calculate_weight(i_list, s_list):\n",
        "    total_value = 0\n",
        "    for i in range(0, len(s_list)):\n",
        "        if s_list[i] == 1:\n",
        "            total_value += i_list[i].weight\n",
        "    return total_value\n",
        "\n",
        "def calculate_value(i_list, s_list):\n",
        "    total_value = 0\n",
        "    for i in range(0, len(s_list)):\n",
        "        if s_list[i] == 1:\n",
        "            total_value += i_list[i].value\n",
        "    return total_value\n",
        "\n",
        "def check_duplicate_solutions(s_1, s_2):\n",
        "    for i in range(0, len(s_1)):\n",
        "        if s_1[i] != s_2[i]:\n",
        "            return False\n",
        "    return True\n",
        "def print_ans(i_list, s_list):\n",
        "  ans_list = []\n",
        "  for i in range(0, len(s_list)):\n",
        "      if s_list[i] == 1:\n",
        "          ans_list.append(i_list[i].id)\n",
        "  print(ans_list)\n"
      ]
    },
    {
      "cell_type": "markdown",
      "metadata": {
        "id": "a5w-PWJv-mT8"
      },
      "source": [
        "# Part4:  Mutation & Cross Over\n",
        "\n",
        "* Crossover:crossover is a genetic operator used to combine the genetic information of two parents to generate new offspring. It is one way to stochastically generate new solutions from an existing population.\n",
        "\n",
        "* Mutation: A mutation is a random change to a solution in a population of solutions. Mutations can be beneficial, harmful, or neutral to the solution's fitness. In artificial intelligence, mutations are often used to generate new solutions in the hope of finding a better solution.\n",
        "\n",
        "In my crossover method, it takes two parent chromosomes (p_1 and p_2) as input and performs crossover to generate a child chromosome.\n",
        "A random break_point is chosen between 0 and the length of the parent chromosome p_1.\n",
        "The first part of the child chromosome (first_part) is taken from the beginning of p_1 up to the break_point.\n",
        "The second part of the child chromosome (second_part) is taken from the break_point to the end of p_2.\n",
        "The child chromosome is formed by concatenating the first and second parts.\n",
        "The function then checks if the child chromosome is valid (i.e., satisfies the constraints of the problem, such as weight and value limits) using the valid_solution function.\n",
        "If the child chromosome is valid, it is returned. Otherwise, the crossover operation is recursively called with the same parent chromosomes until a valid child chromosome is generated.\n",
        "\n"
      ]
    },
    {
      "cell_type": "code",
      "execution_count": null,
      "metadata": {
        "id": "mrvNLWkD99QZ"
      },
      "outputs": [],
      "source": [
        "def crossover(p_1, p_2):\n",
        "    break_point = random.randint(0, len(p_1))\n",
        "    first_part = p_1[:break_point]\n",
        "    second_part = p_2[break_point:]\n",
        "    child = first_part + second_part\n",
        "    if valid_solution(item_list, child, carrier_limit, min_value):\n",
        "        return child\n",
        "    else:\n",
        "        return crossover(p_1, p_2)"
      ]
    },
    {
      "cell_type": "markdown",
      "metadata": {
        "id": "7NPR86Io_bFZ"
      },
      "source": [
        "My mutation function takes a chromosome (chromosome) as input and performs mutation to generate a mutated chromosome.\n",
        "Two distinct random indices (mutation_index_1 and mutation_index_2) are chosen between 0 and the length of the chromosome.\n",
        "The values at these indices in the chromosome are swapped to introduce variation.\n",
        "The function then checks if the mutated chromosome is valid using the valid_solution function.\n",
        "If the mutated chromosome is valid, it is returned. Otherwise, the mutation operation is recursively called with the same chromosome until a valid mutated chromosome is generated."
      ]
    },
    {
      "cell_type": "code",
      "execution_count": null,
      "metadata": {
        "id": "YeA1g8NP_ZUw"
      },
      "outputs": [],
      "source": [
        "def mutation(chromosome):\n",
        "    temp = chromosome\n",
        "    mutation_index_1, mutation_index_2 = random.sample(range(0, len(chromosome)), 2)\n",
        "    temp[mutation_index_1], temp[mutation_index_2] = temp[mutation_index_2], temp[mutation_index_1]\n",
        "    if valid_solution(item_list, temp, carrier_limit, min_value):\n",
        "        return temp\n",
        "    else:\n",
        "        return mutation(chromosome)"
      ]
    },
    {
      "cell_type": "markdown",
      "metadata": {
        "id": "0AAay-S78_B3"
      },
      "source": [
        "# Part5: Do the genetic algorithm on the problem\n",
        "\n",
        "at the end, we consider all the previous steps and create a genetic_algorithm function to implement the genetic algorithm. this function iterates all the above steps in the number of epochs.\n",
        "\n",
        "Function Steps:\n",
        "\n",
        "value_list=[]: Initializes an empty list value_list to store the best value found in each generation.\n",
        "\n",
        "it Initializes the population by calling the initial_population function, which generates an initial population of solutions (chromosomes). then Iterates over each generation for a specified number of generations.\n",
        "\n",
        "it Creates a new generation of solutions by calling the create_generation function. This function generates a new population of solutions by performing selection, crossover, and mutation operations on the current population.\n",
        "\n",
        "best_val, best_ans=best_solution(pop, i_list): Finds the best solution in the current generation by calling the best_solution function, which returns the solution with the highest value.\n"
      ]
    },
    {
      "cell_type": "code",
      "execution_count": null,
      "metadata": {
        "colab": {
          "base_uri": "https://localhost:8080/"
        },
        "id": "RmbJ5WP_84tk",
        "outputId": "dfc5bf35-d328-470c-c320-7222fb7c505b"
      },
      "outputs": [
        {
          "name": "stdout",
          "output_type": "stream",
          "text": [
            "['Jooj', 'Chocoroll', 'Pastil', 'Masghati']\n",
            "value -->  40\n"
          ]
        }
      ],
      "source": [
        "def genetic_algorithm(c_limit, v_limit, p_size, gen_size, mutation_rate, i_list):\n",
        "    value_list=[]\n",
        "    pop = initial_population(p_size, i_list, c_limit, v_limit)\n",
        "    for i in range(0, gen_size):\n",
        "        pop = create_generation(pop, mutation_rate)\n",
        "        #print(pop[0])\n",
        "\n",
        "        #print(\"value --> \", calculate_value(i_list, pop[0]))\n",
        "\n",
        "        best_val, best_ans=best_solution(pop, i_list)\n",
        "        #print(\"best val --> \", best_val)\n",
        "        #print_ans(i_list, best_ans)\n",
        "        value_list.append(best_val)\n",
        "        #print(\"value list --> \", value_list)\n",
        "    return pop, value_list, best_ans\n",
        "\n",
        "\n",
        "# latest population after genetic algorithm run\n",
        "latest_pop, v_list, best_ans = genetic_algorithm(c_limit=carrier_limit,\n",
        "                                       v_limit=min_value,\n",
        "                                       p_size=population_size,\n",
        "                                       gen_size=generation_size,\n",
        "                                       mutation_rate=mutation_rate,\n",
        "                                       i_list=item_list)\n",
        "\n",
        "print_ans(item_list, best_ans)\n",
        "print(\"value --> \", v_list[-1])"
      ]
    },
    {
      "cell_type": "code",
      "execution_count": null,
      "metadata": {
        "colab": {
          "base_uri": "https://localhost:8080/",
          "height": 472
        },
        "id": "_Ho9Tg7G0oFi",
        "outputId": "b304efa9-b50e-4ddf-ce12-673445921875"
      },
      "outputs": [
        {
          "data": {
            "image/png": "[encoded data removed]",
            "text/plain": [
              "<Figure size 640x480 with 1 Axes>"
            ]
          },
          "metadata": {},
          "output_type": "display_data"
        }
      ],
      "source": [
        "# Plot a graph to show the progress\n",
        "plt.plot(v_list)\n",
        "plt.xlabel('generations')\n",
        "plt.ylabel('values')\n",
        "plt.title(\"Values of the solutions during the generations\")\n",
        "plt.show()"
      ]
    },
    {
      "cell_type": "markdown",
      "metadata": {
        "id": "a38a3911"
      },
      "source": [
        "<html>\n",
        "    \n",
        "<div>\n",
        "<p5>   \n",
        "\n",
        "\n",
        "# Questions:\n",
        "\n",
        "\n",
        "\n",
        "## 1. How can very large or very small population sizes affect the performance of the algorithm?\n",
        "#### very large population:\n",
        "- the algorithm may take a long time to find the best solution because of each iteration time\n",
        "- it may be unnecessary to spend that much time.\n",
        "- it also may have complex operations\n",
        "- each iteration would be longer\n",
        "\n",
        "#### very large population:\n",
        "- the diversity of the chromosomes is limited\n",
        "- we need more iteration to find a solution\n",
        "- total rum time would increase because of the more iteration\n",
        "- the algorithm may not be able to find the best solution because it may not have enough chromosomes to select from.\n",
        "\n",
        "<html><hr/></html>\n",
        "\n",
        "## 2. What happens if the population size increases in each generation?\n",
        "\n",
        "#### benefits:\n",
        " - The more the population size gets, the more accurate the result will be.\n",
        "\n",
        "#### disadvantages:\n",
        "- it increases the time complexity and the memory usage.\n",
        "- due to computation increment,speed would decrease\n",
        "\n",
        "<html><hr/></html>\n",
        "\n",
        "## 3. What is the effect of crossover and mutation? Is it possible to use only one of them?\n",
        "\n",
        "- crossover: Crossover is used to create new chromosomes from the existing chromosomes. The problem of this operation is that; if we do not consider the chromosomes with special properties, we are not able to generate them and have such properties in our final result. so we should use mutation,too.\n",
        "- Mutation: Mutation is used to change the genes of the chromosomes. The problem of this method is that it does not have any relations with our primary population. for example, in this problem if we just do mutation, we can be far away from the efficient result.The reason is that we are changing the coefficients randomly and this is just random! we need to do crossover to use the primary population and lead to better results.\n",
        "\n",
        "so we should do both of them together.\n",
        "\n",
        "<html><hr/></html>\n",
        "\n",
        "## 4. How to accelerate the algorithm?\n",
        "we should make the algorithm better by implementing crossover and mutation functions more efficiently.Fitness function, parameters such as the probability of crossover and mutation, and the population size should be chosen carefully. Also, the crossover and mutation functions can affect the performance of the algorithm.\n",
        "\n",
        "<html><hr/></html>\n",
        "\n",
        "## 5. How to stop the algorithm if it is not converging?\n",
        "\n",
        "If we just use crossover operation, this happens. It indicates that it may have stopped at a local maximum instead of the global maximum. In order to avoid that, Mutation is a good choice. In mutation chromosomes are changed randomly and we can generate new properties. Also, we can limit the number of generations in order to stop the algorithm if it is not converging. In the other hand, multi-start is another way to increase the probability of finding the global maximum.\n",
        "\n",
        "<html><hr/></html>\n",
        "\n",
        "## 6. How to stop the algorithm if there exists no solution?\n",
        "\n",
        "we can put some limitations.\n",
        "* time limitation is a good one\n",
        "* also we can limit the iterations and set a specific amount of iterations.\n",
        "* Threshold fitness solution is another way.The algorithm will terminate after the threshold fitness solution has been attained.\n",
        "\n",
        "</p5>\n",
        " </div>       \n",
        "    <html>\n"
      ]
    },
    {
      "cell_type": "markdown",
      "metadata": {
        "id": "952b218e"
      },
      "source": [
        "<html>\n",
        "    \n",
        "<div>\n",
        "<p5>   \n",
        "\n",
        "# Resources :\n",
        "\n",
        "- https://pubs.rsc.org/en/content/articlelanding/2008/cp/b807326k\n",
        "- https://www.youtube.com/watch?v=Q530u_g2CWE&list=PLYwpaL_SFmcDHUTN26NXKfjg6wFJKDO9R\n",
        "- https://www.tutorialspoint.com/genetic_algorithms/genetic_algorithms_termination_condition.html\n",
        "- https://www.youtube.com/watch?v=frB2zIpOOBk\n",
        "- https://www.geeksforgeeks.org/mutation-algorithms-for-string-manipulation-ga/\n",
        "    \n",
        "</p5>\n",
        " </div>       \n",
        "    <html>\n"
      ]
    }
  ],
  "metadata": {
    "colab": {
      "provenance": []
    },
    "kernelspec": {
      "display_name": "Python 3",
      "name": "python3"
    },
    "language_info": {
      "codemirror_mode": {
        "name": "ipython",
        "version": 3
      },
      "file_extension": ".py",
      "mimetype": "text/x-python",
      "name": "python",
      "nbconvert_exporter": "python",
      "pygments_lexer": "ipython3",
      "version": "3.11.7"
    }
  },
  "nbformat": 4,
  "nbformat_minor": 0
}
